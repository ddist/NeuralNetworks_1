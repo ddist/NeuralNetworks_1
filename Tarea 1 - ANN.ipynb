{
 "cells": [
  {
   "cell_type": "markdown",
   "metadata": {},
   "source": [
    "# <center>Tarea 1 - Introducción a las Redes Neuronales Artificiales</center>\n",
    "## <center> Ariel Sanhueza - 201173005-4 </center>\n",
    "## <center> Diego Pérez - 201173xxx-y </center>"
   ]
  },
  {
   "cell_type": "markdown",
   "metadata": {},
   "source": [
    "### Previo\n",
    "Primero importaremos las bibliotecas necesarias para desarrollar la tarea."
   ]
  },
  {
   "cell_type": "code",
   "execution_count": 1,
   "metadata": {
    "collapsed": false
   },
   "outputs": [
    {
     "name": "stderr",
     "output_type": "stream",
     "text": [
      "Using Theano backend.\n"
     ]
    }
   ],
   "source": [
    "%matplotlib inline\n",
    "import numpy as np\n",
    "\n",
    "from numpy.random import rand\n",
    "from keras.models import Sequential\n",
    "from keras.layers import Dense\n",
    "from keras.layers.core import Dense, Activation\n",
    "from keras.optimizers import SGD\n",
    "\n",
    "import matplotlib\n",
    "import matplotlib.pyplot as plt\n",
    "\n",
    "import pandas as pd\n",
    "\n",
    "from sklearn.preprocessing import StandardScaler\n",
    "from sklearn.cross_validation import train_test_split"
   ]
  },
  {
   "cell_type": "markdown",
   "metadata": {},
   "source": [
    "## Problema 1"
   ]
  },
  {
   "cell_type": "markdown",
   "metadata": {},
   "source": [
    "### a)\n",
    "Primero generamos una función que genere $n$ pares (x,y), donde $x \\in [-1,1]^2, y \\in \\{0,1\\}$, como se sugirió en el enunciado."
   ]
  },
  {
   "cell_type": "code",
   "execution_count": 2,
   "metadata": {
    "collapsed": false
   },
   "outputs": [],
   "source": [
    "def generate_data(n):\n",
    "    # Generamos la matriz con los datos, de tamaño nx3\n",
    "    ndata = 2*rand(n,3) - 1\n",
    "    # Calculamos el valor que corresponde a y\n",
    "    for i in range(n):\n",
    "        if (ndata[i,0] > 0 and ndata[i,1] > 0) or (ndata[i,0] <= 0 and ndata[i,1] <= 0):\n",
    "            ndata[i,2] = 0\n",
    "        else:\n",
    "            ndata[i,2] = 1\n",
    "    return ndata"
   ]
  },
  {
   "cell_type": "markdown",
   "metadata": {},
   "source": [
    "El problema se llama **XOR** pues la función de clasificación es la de la operación \"OR-Exclusive\". La separación sigue la misma lógica del XOR binario. Generamos los datos de entrenamiento y prueba para luego separarlos en la *data* de entrada y la data con los outputs deseados."
   ]
  },
  {
   "cell_type": "code",
   "execution_count": 3,
   "metadata": {
    "collapsed": false
   },
   "outputs": [],
   "source": [
    "training_dt = generate_data(1000)\n",
    "test_dt = generate_data(1000)"
   ]
  },
  {
   "cell_type": "code",
   "execution_count": 4,
   "metadata": {
    "collapsed": true
   },
   "outputs": [],
   "source": [
    "# Separamos la data en entrada y salida\n",
    "X_training = training_dt[:,:2]\n",
    "Y_training = training_dt[:,2]\n",
    "X_test = test_dt[:,:2]\n",
    "Y_test = test_dt[:,2]"
   ]
  },
  {
   "cell_type": "markdown",
   "metadata": {},
   "source": [
    "### b)\n",
    "Procedemos a generar neurona utilizando *keras* (como red neuronal de una capa oculta). Se mostrarán dos ejemplos donde se utilizarán dos funciones de activación: **lineal** y **sigmoidal**. Esto se hará para demostrar que independiente de los parámetros de la neurona, el problema no puede ser resuelto por ella. Los parámetros de la compilación son seteados de acuerdo a la página oficial de *keras* sobre un ejemplo de clasificador binario."
   ]
  },
  {
   "cell_type": "code",
   "execution_count": 5,
   "metadata": {
    "collapsed": false
   },
   "outputs": [],
   "source": [
    "# Primero modelo\n",
    "model_linear = Sequential()\n",
    "model_linear.add(Dense(1, input_dim=2, activation='linear'))"
   ]
  },
  {
   "cell_type": "code",
   "execution_count": 6,
   "metadata": {
    "collapsed": true
   },
   "outputs": [],
   "source": [
    "# Compilamos\n",
    "model_linear.compile(optimizer='sgd', loss='binary_crossentropy', metrics=['accuracy'])"
   ]
  },
  {
   "cell_type": "code",
   "execution_count": 7,
   "metadata": {
    "collapsed": false,
    "scrolled": true
   },
   "outputs": [
    {
     "name": "stdout",
     "output_type": "stream",
     "text": [
      "Epoch 1/50\n",
      "1000/1000 [==============================] - 0s - loss: 4.5273 - acc: 0.3490     \n",
      "Epoch 2/50\n",
      "1000/1000 [==============================] - 0s - loss: 1.9223 - acc: 0.4600     \n",
      "Epoch 3/50\n",
      "1000/1000 [==============================] - 0s - loss: 0.7491 - acc: 0.4850     \n",
      "Epoch 4/50\n",
      "1000/1000 [==============================] - 0s - loss: 0.7146 - acc: 0.4850     \n",
      "Epoch 5/50\n",
      "1000/1000 [==============================] - 0s - loss: 0.7018 - acc: 0.5290     \n",
      "Epoch 6/50\n",
      "1000/1000 [==============================] - 0s - loss: 0.6974 - acc: 0.4850     \n",
      "Epoch 7/50\n",
      "1000/1000 [==============================] - 0s - loss: 0.6947 - acc: 0.4960     \n",
      "Epoch 8/50\n",
      "1000/1000 [==============================] - 0s - loss: 0.6942 - acc: 0.3940     \n",
      "Epoch 9/50\n",
      "1000/1000 [==============================] - 0s - loss: 0.6939 - acc: 0.5000     \n",
      "Epoch 10/50\n",
      "1000/1000 [==============================] - 0s - loss: 0.6936 - acc: 0.5150     \n",
      "Epoch 11/50\n",
      "1000/1000 [==============================] - 0s - loss: 0.6940 - acc: 0.5320     \n",
      "Epoch 12/50\n",
      "1000/1000 [==============================] - 0s - loss: 0.6939 - acc: 0.6140     \n",
      "Epoch 13/50\n",
      "1000/1000 [==============================] - 0s - loss: 0.6932 - acc: 0.4990     \n",
      "Epoch 14/50\n",
      "1000/1000 [==============================] - 0s - loss: 0.6935 - acc: 0.5770     \n",
      "Epoch 15/50\n",
      "1000/1000 [==============================] - 0s - loss: 0.6936 - acc: 0.5230     \n",
      "Epoch 16/50\n",
      "1000/1000 [==============================] - 0s - loss: 0.6938 - acc: 0.5610     \n",
      "Epoch 17/50\n",
      "1000/1000 [==============================] - 0s - loss: 0.6938 - acc: 0.5130     \n",
      "Epoch 18/50\n",
      "1000/1000 [==============================] - 0s - loss: 0.6935 - acc: 0.5220     \n",
      "Epoch 19/50\n",
      "1000/1000 [==============================] - 0s - loss: 0.6935 - acc: 0.5960     \n",
      "Epoch 20/50\n",
      "1000/1000 [==============================] - 0s - loss: 0.6933 - acc: 0.5580     \n",
      "Epoch 21/50\n",
      "1000/1000 [==============================] - 0s - loss: 0.6937 - acc: 0.6160     \n",
      "Epoch 22/50\n",
      "1000/1000 [==============================] - 0s - loss: 0.6935 - acc: 0.5900     \n",
      "Epoch 23/50\n",
      "1000/1000 [==============================] - 0s - loss: 0.6937 - acc: 0.5700     \n",
      "Epoch 24/50\n",
      "1000/1000 [==============================] - 0s - loss: 0.6936 - acc: 0.5900     \n",
      "Epoch 25/50\n",
      "1000/1000 [==============================] - 0s - loss: 0.6936 - acc: 0.5550     \n",
      "Epoch 26/50\n",
      "1000/1000 [==============================] - 0s - loss: 0.6936 - acc: 0.5650     \n",
      "Epoch 27/50\n",
      "1000/1000 [==============================] - 0s - loss: 0.6938 - acc: 0.5680     \n",
      "Epoch 28/50\n",
      "1000/1000 [==============================] - 0s - loss: 0.6935 - acc: 0.5910     \n",
      "Epoch 29/50\n",
      "1000/1000 [==============================] - 0s - loss: 0.6937 - acc: 0.5280     \n",
      "Epoch 30/50\n",
      "1000/1000 [==============================] - 0s - loss: 0.6935 - acc: 0.5260     \n",
      "Epoch 31/50\n",
      "1000/1000 [==============================] - 0s - loss: 0.6939 - acc: 0.6160     \n",
      "Epoch 32/50\n",
      "1000/1000 [==============================] - 0s - loss: 0.6939 - acc: 0.5130     \n",
      "Epoch 33/50\n",
      "1000/1000 [==============================] - 0s - loss: 0.6934 - acc: 0.5350     \n",
      "Epoch 34/50\n",
      "1000/1000 [==============================] - 0s - loss: 0.6936 - acc: 0.5070     \n",
      "Epoch 35/50\n",
      "1000/1000 [==============================] - 0s - loss: 0.6936 - acc: 0.5630     \n",
      "Epoch 36/50\n",
      "1000/1000 [==============================] - 0s - loss: 0.6937 - acc: 0.5810     \n",
      "Epoch 37/50\n",
      "1000/1000 [==============================] - 0s - loss: 0.6937 - acc: 0.5790     \n",
      "Epoch 38/50\n",
      "1000/1000 [==============================] - 0s - loss: 0.6934 - acc: 0.6290     \n",
      "Epoch 39/50\n",
      "1000/1000 [==============================] - 0s - loss: 0.6939 - acc: 0.5910     \n",
      "Epoch 40/50\n",
      "1000/1000 [==============================] - 0s - loss: 0.6941 - acc: 0.5150     \n",
      "Epoch 41/50\n",
      "1000/1000 [==============================] - 0s - loss: 0.6938 - acc: 0.5240     \n",
      "Epoch 42/50\n",
      "1000/1000 [==============================] - 0s - loss: 0.6937 - acc: 0.5950     \n",
      "Epoch 43/50\n",
      "1000/1000 [==============================] - 0s - loss: 0.6936 - acc: 0.6130     \n",
      "Epoch 44/50\n",
      "1000/1000 [==============================] - 0s - loss: 0.6934 - acc: 0.6100     \n",
      "Epoch 45/50\n",
      "1000/1000 [==============================] - 0s - loss: 0.6937 - acc: 0.5510     \n",
      "Epoch 46/50\n",
      "1000/1000 [==============================] - 0s - loss: 0.6936 - acc: 0.5970     \n",
      "Epoch 47/50\n",
      "1000/1000 [==============================] - 0s - loss: 0.6933 - acc: 0.5470     \n",
      "Epoch 48/50\n",
      "1000/1000 [==============================] - 0s - loss: 0.6935 - acc: 0.6100     \n",
      "Epoch 49/50\n",
      "1000/1000 [==============================] - 0s - loss: 0.6934 - acc: 0.5380     \n",
      "Epoch 50/50\n",
      "1000/1000 [==============================] - 0s - loss: 0.6938 - acc: 0.5100     \n"
     ]
    },
    {
     "data": {
      "text/plain": [
       "<keras.callbacks.History at 0x10da113c8>"
      ]
     },
     "execution_count": 7,
     "metadata": {},
     "output_type": "execute_result"
    }
   ],
   "source": [
    "# Entrenamos\n",
    "model_linear.fit(X_training, Y_training, nb_epoch=50)"
   ]
  },
  {
   "cell_type": "code",
   "execution_count": 8,
   "metadata": {
    "collapsed": false
   },
   "outputs": [
    {
     "name": "stdout",
     "output_type": "stream",
     "text": [
      "  32/1000 [..............................] - ETA: 0s\n",
      "Precisión de clasificación: 46.90%\n"
     ]
    }
   ],
   "source": [
    "# Evaluamos el modelo\n",
    "scores_linear = model_linear.evaluate(X_test, Y_test)\n",
    "print(\"\\nPrecisión de clasificación: {0:.2f}%\".format(scores_linear[1]*100))"
   ]
  },
  {
   "cell_type": "code",
   "execution_count": 9,
   "metadata": {
    "collapsed": true
   },
   "outputs": [],
   "source": [
    "# Segundo modelo\n",
    "model_sig = Sequential()\n",
    "model_sig.add(Dense(1, input_dim=2, activation='linear'))"
   ]
  },
  {
   "cell_type": "code",
   "execution_count": 10,
   "metadata": {
    "collapsed": true
   },
   "outputs": [],
   "source": [
    "# Compilamos\n",
    "model_sig.compile(optimizer='sgd', loss='binary_crossentropy', metrics=['accuracy'])"
   ]
  },
  {
   "cell_type": "code",
   "execution_count": 11,
   "metadata": {
    "collapsed": false
   },
   "outputs": [
    {
     "name": "stdout",
     "output_type": "stream",
     "text": [
      "Epoch 1/50\n",
      "1000/1000 [==============================] - 0s - loss: 4.6766 - acc: 0.2600     \n",
      "Epoch 2/50\n",
      "1000/1000 [==============================] - 0s - loss: 1.6237 - acc: 0.4420     \n",
      "Epoch 3/50\n",
      "1000/1000 [==============================] - 0s - loss: 0.7347 - acc: 0.3960     \n",
      "Epoch 4/50\n",
      "1000/1000 [==============================] - 0s - loss: 0.7086 - acc: 0.4440     \n",
      "Epoch 5/50\n",
      "1000/1000 [==============================] - 0s - loss: 0.6991 - acc: 0.5410     \n",
      "Epoch 6/50\n",
      "1000/1000 [==============================] - 0s - loss: 0.6963 - acc: 0.4770     \n",
      "Epoch 7/50\n",
      "1000/1000 [==============================] - 0s - loss: 0.6944 - acc: 0.6000     \n",
      "Epoch 8/50\n",
      "1000/1000 [==============================] - 0s - loss: 0.6935 - acc: 0.6110     \n",
      "Epoch 9/50\n",
      "1000/1000 [==============================] - 0s - loss: 0.6934 - acc: 0.6030     \n",
      "Epoch 10/50\n",
      "1000/1000 [==============================] - 0s - loss: 0.6936 - acc: 0.6240     \n",
      "Epoch 11/50\n",
      "1000/1000 [==============================] - 0s - loss: 0.6933 - acc: 0.6400     \n",
      "Epoch 12/50\n",
      "1000/1000 [==============================] - 0s - loss: 0.6938 - acc: 0.5330     \n",
      "Epoch 13/50\n",
      "1000/1000 [==============================] - 0s - loss: 0.6936 - acc: 0.5770     \n",
      "Epoch 14/50\n",
      "1000/1000 [==============================] - 0s - loss: 0.6936 - acc: 0.5530     \n",
      "Epoch 15/50\n",
      "1000/1000 [==============================] - 0s - loss: 0.6935 - acc: 0.5640     \n",
      "Epoch 16/50\n",
      "1000/1000 [==============================] - 0s - loss: 0.6935 - acc: 0.5990     \n",
      "Epoch 17/50\n",
      "1000/1000 [==============================] - 0s - loss: 0.6939 - acc: 0.5860     \n",
      "Epoch 18/50\n",
      "1000/1000 [==============================] - 0s - loss: 0.6937 - acc: 0.5300     \n",
      "Epoch 19/50\n",
      "1000/1000 [==============================] - 0s - loss: 0.6935 - acc: 0.5070     \n",
      "Epoch 20/50\n",
      "1000/1000 [==============================] - 0s - loss: 0.6937 - acc: 0.5430     \n",
      "Epoch 21/50\n",
      "1000/1000 [==============================] - 0s - loss: 0.6936 - acc: 0.5390     \n",
      "Epoch 22/50\n",
      "1000/1000 [==============================] - 0s - loss: 0.6937 - acc: 0.5360     \n",
      "Epoch 23/50\n",
      "1000/1000 [==============================] - 0s - loss: 0.6938 - acc: 0.5570     \n",
      "Epoch 24/50\n",
      "1000/1000 [==============================] - 0s - loss: 0.6938 - acc: 0.5140     \n",
      "Epoch 25/50\n",
      "1000/1000 [==============================] - 0s - loss: 0.6938 - acc: 0.6270     \n",
      "Epoch 26/50\n",
      "1000/1000 [==============================] - 0s - loss: 0.6933 - acc: 0.5860     \n",
      "Epoch 27/50\n",
      "1000/1000 [==============================] - 0s - loss: 0.6938 - acc: 0.5360     \n",
      "Epoch 28/50\n",
      "1000/1000 [==============================] - 0s - loss: 0.6938 - acc: 0.5780     \n",
      "Epoch 29/50\n",
      "1000/1000 [==============================] - 0s - loss: 0.6936 - acc: 0.6230     \n",
      "Epoch 30/50\n",
      "1000/1000 [==============================] - 0s - loss: 0.6935 - acc: 0.5690     \n",
      "Epoch 31/50\n",
      "1000/1000 [==============================] - 0s - loss: 0.6934 - acc: 0.5340     \n",
      "Epoch 32/50\n",
      "1000/1000 [==============================] - 0s - loss: 0.6936 - acc: 0.5670     \n",
      "Epoch 33/50\n",
      "1000/1000 [==============================] - 0s - loss: 0.6938 - acc: 0.5720     \n",
      "Epoch 34/50\n",
      "1000/1000 [==============================] - 0s - loss: 0.6936 - acc: 0.5580     \n",
      "Epoch 35/50\n",
      "1000/1000 [==============================] - 0s - loss: 0.6936 - acc: 0.5190     \n",
      "Epoch 36/50\n",
      "1000/1000 [==============================] - 0s - loss: 0.6937 - acc: 0.5950     \n",
      "Epoch 37/50\n",
      "1000/1000 [==============================] - 0s - loss: 0.6933 - acc: 0.5560     \n",
      "Epoch 38/50\n",
      "1000/1000 [==============================] - 0s - loss: 0.6938 - acc: 0.5740     \n",
      "Epoch 39/50\n",
      "1000/1000 [==============================] - 0s - loss: 0.6937 - acc: 0.5160     \n",
      "Epoch 40/50\n",
      "1000/1000 [==============================] - 0s - loss: 0.6937 - acc: 0.5480     \n",
      "Epoch 41/50\n",
      "1000/1000 [==============================] - 0s - loss: 0.6938 - acc: 0.5780     \n",
      "Epoch 42/50\n",
      "1000/1000 [==============================] - 0s - loss: 0.6937 - acc: 0.6020     \n",
      "Epoch 43/50\n",
      "1000/1000 [==============================] - 0s - loss: 0.6939 - acc: 0.5200     \n",
      "Epoch 44/50\n",
      "1000/1000 [==============================] - 0s - loss: 0.6936 - acc: 0.4640     \n",
      "Epoch 45/50\n",
      "1000/1000 [==============================] - 0s - loss: 0.6933 - acc: 0.5400     \n",
      "Epoch 46/50\n",
      "1000/1000 [==============================] - 0s - loss: 0.6937 - acc: 0.5380     \n",
      "Epoch 47/50\n",
      "1000/1000 [==============================] - 0s - loss: 0.6937 - acc: 0.5950     \n",
      "Epoch 48/50\n",
      "1000/1000 [==============================] - 0s - loss: 0.6934 - acc: 0.5870     \n",
      "Epoch 49/50\n",
      "1000/1000 [==============================] - 0s - loss: 0.6936 - acc: 0.5900     \n",
      "Epoch 50/50\n",
      "1000/1000 [==============================] - 0s - loss: 0.6937 - acc: 0.6040     \n"
     ]
    },
    {
     "data": {
      "text/plain": [
       "<keras.callbacks.History at 0x10dbba668>"
      ]
     },
     "execution_count": 11,
     "metadata": {},
     "output_type": "execute_result"
    }
   ],
   "source": [
    "# Entrenamos\n",
    "model_sig.fit(X_training, Y_training, nb_epoch=50)"
   ]
  },
  {
   "cell_type": "code",
   "execution_count": 12,
   "metadata": {
    "collapsed": false
   },
   "outputs": [
    {
     "name": "stdout",
     "output_type": "stream",
     "text": [
      "  32/1000 [..............................] - ETA: 0s\n",
      "Precisión de clasificación: 59.40%\n"
     ]
    }
   ],
   "source": [
    "# Evaluamos el modelo\n",
    "scores_sig = model_sig.evaluate(X_test, Y_test)\n",
    "print(\"\\nPrecisión de clasificación: {0:.2f}%\".format(scores_sig[1]*100))"
   ]
  },
  {
   "cell_type": "markdown",
   "metadata": {},
   "source": [
    "Como se puede ver en ambos modelos, la precisión de clasificación en el conjunto de prueba es de aproximadamente un 50%. Esto se debe a que una sola neurona solo puede aproximar funciones lineales y por lo tanto solo puede resolver problemas linealmente separables. Dado que el problema **XOR** no es linealmente separable, utilizando una sola recta se tiene en aproximadamente un 50% de error teórico."
   ]
  },
  {
   "cell_type": "markdown",
   "metadata": {},
   "source": [
    "### c)\n",
    "Ahora veremos para un modelo con 2 capas ocultas. La activación de las capas ocultas será una función sigmoidal. La capa de salida tendrá activación lineal."
   ]
  },
  {
   "cell_type": "code",
   "execution_count": 52,
   "metadata": {
    "collapsed": true
   },
   "outputs": [],
   "source": [
    "# Creamos la red con sus parámetros\n",
    "model_nn = Sequential()\n",
    "model_nn.add(Dense(20, input_dim=2, activation='tanh'))\n",
    "model_nn.add(Dense(1, activation='linear'))"
   ]
  },
  {
   "cell_type": "code",
   "execution_count": 53,
   "metadata": {
    "collapsed": false
   },
   "outputs": [],
   "source": [
    "# Compilamos\n",
    "model_nn.compile(optimizer='sgd', loss='binary_crossentropy', metrics=['accuracy'])"
   ]
  },
  {
   "cell_type": "code",
   "execution_count": 54,
   "metadata": {
    "collapsed": false,
    "scrolled": true
   },
   "outputs": [
    {
     "name": "stdout",
     "output_type": "stream",
     "text": [
      "Epoch 1/50\n",
      "1000/1000 [==============================] - 0s - loss: 4.3537 - acc: 0.5990     \n",
      "Epoch 2/50\n",
      "1000/1000 [==============================] - 0s - loss: 1.2480 - acc: 0.4580     \n",
      "Epoch 3/50\n",
      "1000/1000 [==============================] - 0s - loss: 0.7056 - acc: 0.4490     \n",
      "Epoch 4/50\n",
      "1000/1000 [==============================] - 0s - loss: 0.6990 - acc: 0.4510     \n",
      "Epoch 5/50\n",
      "1000/1000 [==============================] - 0s - loss: 0.6952 - acc: 0.5030     \n",
      "Epoch 6/50\n",
      "1000/1000 [==============================] - 0s - loss: 0.6918 - acc: 0.5160     \n",
      "Epoch 7/50\n",
      "1000/1000 [==============================] - 0s - loss: 0.6898 - acc: 0.5210     \n",
      "Epoch 8/50\n",
      "1000/1000 [==============================] - 0s - loss: 0.6855 - acc: 0.5790     \n",
      "Epoch 9/50\n",
      "1000/1000 [==============================] - 0s - loss: 0.6834 - acc: 0.5460     \n",
      "Epoch 10/50\n",
      "1000/1000 [==============================] - 0s - loss: 0.6796 - acc: 0.5970     \n",
      "Epoch 11/50\n",
      "1000/1000 [==============================] - 0s - loss: 0.6751 - acc: 0.6520     \n",
      "Epoch 12/50\n",
      "1000/1000 [==============================] - 0s - loss: 0.6719 - acc: 0.6300     \n",
      "Epoch 13/50\n",
      "1000/1000 [==============================] - 0s - loss: 0.6678 - acc: 0.6390     \n",
      "Epoch 14/50\n",
      "1000/1000 [==============================] - 0s - loss: 0.6641 - acc: 0.7510     \n",
      "Epoch 15/50\n",
      "1000/1000 [==============================] - 0s - loss: 0.6595 - acc: 0.7260     \n",
      "Epoch 16/50\n",
      "1000/1000 [==============================] - 0s - loss: 0.6549 - acc: 0.7500     \n",
      "Epoch 17/50\n",
      "1000/1000 [==============================] - 0s - loss: 0.6486 - acc: 0.8150     \n",
      "Epoch 18/50\n",
      "1000/1000 [==============================] - 0s - loss: 0.6440 - acc: 0.7470     \n",
      "Epoch 19/50\n",
      "1000/1000 [==============================] - 0s - loss: 0.6371 - acc: 0.8270     \n",
      "Epoch 20/50\n",
      "1000/1000 [==============================] - 0s - loss: 0.6301 - acc: 0.8100     \n",
      "Epoch 21/50\n",
      "1000/1000 [==============================] - 0s - loss: 0.6231 - acc: 0.8340     \n",
      "Epoch 22/50\n",
      "1000/1000 [==============================] - 0s - loss: 0.6146 - acc: 0.8270     \n",
      "Epoch 23/50\n",
      "1000/1000 [==============================] - 0s - loss: 0.6060 - acc: 0.8580     \n",
      "Epoch 24/50\n",
      "1000/1000 [==============================] - 0s - loss: 0.5970 - acc: 0.8470     \n",
      "Epoch 25/50\n",
      "1000/1000 [==============================] - 0s - loss: 0.5867 - acc: 0.8790     \n",
      "Epoch 26/50\n",
      "1000/1000 [==============================] - 0s - loss: 0.5758 - acc: 0.8290     \n",
      "Epoch 27/50\n",
      "1000/1000 [==============================] - 0s - loss: 0.5644 - acc: 0.8800     \n",
      "Epoch 28/50\n",
      "1000/1000 [==============================] - 0s - loss: 0.5529 - acc: 0.8910     \n",
      "Epoch 29/50\n",
      "1000/1000 [==============================] - 0s - loss: 0.5389 - acc: 0.8860     \n",
      "Epoch 30/50\n",
      "1000/1000 [==============================] - 0s - loss: 0.5261 - acc: 0.8940     \n",
      "Epoch 31/50\n",
      "1000/1000 [==============================] - 0s - loss: 0.5098 - acc: 0.9080     \n",
      "Epoch 32/50\n",
      "1000/1000 [==============================] - 0s - loss: 0.4953 - acc: 0.9050     \n",
      "Epoch 33/50\n",
      "1000/1000 [==============================] - 0s - loss: 0.4793 - acc: 0.9220     \n",
      "Epoch 34/50\n",
      "1000/1000 [==============================] - 0s - loss: 0.4610 - acc: 0.9030     \n",
      "Epoch 35/50\n",
      "1000/1000 [==============================] - 0s - loss: 0.4433 - acc: 0.9150     \n",
      "Epoch 36/50\n",
      "1000/1000 [==============================] - 0s - loss: 0.4247 - acc: 0.9170     \n",
      "Epoch 37/50\n",
      "1000/1000 [==============================] - 0s - loss: 0.4070 - acc: 0.9240     \n",
      "Epoch 38/50\n",
      "1000/1000 [==============================] - 0s - loss: 0.3879 - acc: 0.9370     \n",
      "Epoch 39/50\n",
      "1000/1000 [==============================] - 0s - loss: 0.3710 - acc: 0.9310     \n",
      "Epoch 40/50\n",
      "1000/1000 [==============================] - 0s - loss: 0.3566 - acc: 0.9330     \n",
      "Epoch 41/50\n",
      "1000/1000 [==============================] - 0s - loss: 0.3434 - acc: 0.9440     \n",
      "Epoch 42/50\n",
      "1000/1000 [==============================] - 0s - loss: 0.3303 - acc: 0.9340     \n",
      "Epoch 43/50\n",
      "1000/1000 [==============================] - 0s - loss: 0.3191 - acc: 0.9420     \n",
      "Epoch 44/50\n",
      "1000/1000 [==============================] - 0s - loss: 0.3090 - acc: 0.9390     \n",
      "Epoch 45/50\n",
      "1000/1000 [==============================] - 0s - loss: 0.2987 - acc: 0.9400     \n",
      "Epoch 46/50\n",
      "1000/1000 [==============================] - 0s - loss: 0.2905 - acc: 0.9480     \n",
      "Epoch 47/50\n",
      "1000/1000 [==============================] - 0s - loss: 0.2819 - acc: 0.9490     \n",
      "Epoch 48/50\n",
      "1000/1000 [==============================] - 0s - loss: 0.2744 - acc: 0.9390     \n",
      "Epoch 49/50\n",
      "1000/1000 [==============================] - 0s - loss: 0.2670 - acc: 0.9500     \n",
      "Epoch 50/50\n",
      "1000/1000 [==============================] - 0s - loss: 0.2607 - acc: 0.9460     \n"
     ]
    },
    {
     "data": {
      "text/plain": [
       "<keras.callbacks.History at 0x1106a5da0>"
      ]
     },
     "execution_count": 54,
     "metadata": {},
     "output_type": "execute_result"
    }
   ],
   "source": [
    "# Entrenamos\n",
    "model_nn.fit(X_training, Y_training, nb_epoch=50)"
   ]
  },
  {
   "cell_type": "code",
   "execution_count": 55,
   "metadata": {
    "collapsed": false
   },
   "outputs": [
    {
     "name": "stdout",
     "output_type": "stream",
     "text": [
      "  32/1000 [..............................] - ETA: 0s\n",
      "Precisión de clasificación: 95.00%\n"
     ]
    }
   ],
   "source": [
    "# Evaluamos el modelo\n",
    "scores_nn = model_nn.evaluate(X_test, Y_test)\n",
    "print(\"\\nPrecisión de clasificación: {0:.2f}%\".format(scores_nn[1]*100))"
   ]
  },
  {
   "cell_type": "markdown",
   "metadata": {},
   "source": [
    "Como se puede ver en este experimento utilizando el modelo descrito la precisión en el set de prueba es de un 95% por lo que, dependiendo de los parámetros escogidos, el problema sí es resolvible mediante un perceptrón multicapas."
   ]
  },
  {
   "cell_type": "markdown",
   "metadata": {
    "collapsed": true
   },
   "source": [
    "## Problema 2"
   ]
  },
  {
   "cell_type": "markdown",
   "metadata": {},
   "source": [
    "### a)\n",
    "Obtenemos los datos del link facilitado. Las líneas realizan:\n",
    "* Línea 3: Se lee el CSV desde la URL entregada. Se marca el caracter ',' como separador de los datos y el parámetro names indica los nombres de cada columna.\n",
    "* Línea 4: importa desde sklearn la función train_test_split que separa el dataset entre datos de entrenamiento y testing de forma aleatoria.\n",
    "* Línea 5: Aplica train_test_split para separar en subconjuntos de entrenamiento y testeo."
   ]
  },
  {
   "cell_type": "code",
   "execution_count": 2,
   "metadata": {
    "collapsed": false
   },
   "outputs": [],
   "source": [
    "url = 'http://mldata.org/repository/data/download/csv/regression-datasets-housing/'\n",
    "\n",
    "df = pd.read_csv(url, sep=',',header=None, names=['CRIM', 'ZN', 'INDUS', 'CHAS', 'NOX', 'RM', 'AGE','DIS','RAD','TAX','PTRATIO','B','LSTAT','MEDV'])\n",
    "df_train,df_test= train_test_split(df,test_size=0.25, random_state=0)"
   ]
  },
  {
   "cell_type": "markdown",
   "metadata": {},
   "source": [
    "### b)"
   ]
  },
  {
   "cell_type": "code",
   "execution_count": 3,
   "metadata": {
    "collapsed": false
   },
   "outputs": [
    {
     "name": "stdout",
     "output_type": "stream",
     "text": [
      "<class 'pandas.core.frame.DataFrame'>\n",
      "RangeIndex: 506 entries, 0 to 505\n",
      "Data columns (total 14 columns):\n",
      "CRIM       506 non-null float64\n",
      "ZN         506 non-null int64\n",
      "INDUS      506 non-null float64\n",
      "CHAS       506 non-null int64\n",
      "NOX        506 non-null float64\n",
      "RM         506 non-null float64\n",
      "AGE        506 non-null float64\n",
      "DIS        506 non-null float64\n",
      "RAD        506 non-null int64\n",
      "TAX        506 non-null int64\n",
      "PTRATIO    506 non-null int64\n",
      "B          506 non-null float64\n",
      "LSTAT      506 non-null float64\n",
      "MEDV       506 non-null float64\n",
      "dtypes: float64(9), int64(5)\n",
      "memory usage: 55.4 KB\n"
     ]
    },
    {
     "data": {
      "text/html": [
       "<div>\n",
       "<table border=\"1\" class=\"dataframe\">\n",
       "  <thead>\n",
       "    <tr style=\"text-align: right;\">\n",
       "      <th></th>\n",
       "      <th>CRIM</th>\n",
       "      <th>ZN</th>\n",
       "      <th>INDUS</th>\n",
       "      <th>CHAS</th>\n",
       "      <th>NOX</th>\n",
       "      <th>RM</th>\n",
       "      <th>AGE</th>\n",
       "      <th>DIS</th>\n",
       "      <th>RAD</th>\n",
       "      <th>TAX</th>\n",
       "      <th>PTRATIO</th>\n",
       "      <th>B</th>\n",
       "      <th>LSTAT</th>\n",
       "      <th>MEDV</th>\n",
       "    </tr>\n",
       "  </thead>\n",
       "  <tbody>\n",
       "    <tr>\n",
       "      <th>count</th>\n",
       "      <td>506.000000</td>\n",
       "      <td>506.000000</td>\n",
       "      <td>506.000000</td>\n",
       "      <td>506.000000</td>\n",
       "      <td>506.000000</td>\n",
       "      <td>506.000000</td>\n",
       "      <td>506.000000</td>\n",
       "      <td>506.000000</td>\n",
       "      <td>506.000000</td>\n",
       "      <td>506.000000</td>\n",
       "      <td>506.000000</td>\n",
       "      <td>506.000000</td>\n",
       "      <td>506.000000</td>\n",
       "      <td>506.000000</td>\n",
       "    </tr>\n",
       "    <tr>\n",
       "      <th>mean</th>\n",
       "      <td>3.613524</td>\n",
       "      <td>11.347826</td>\n",
       "      <td>11.136779</td>\n",
       "      <td>0.069170</td>\n",
       "      <td>0.554695</td>\n",
       "      <td>6.284634</td>\n",
       "      <td>68.574901</td>\n",
       "      <td>3.795043</td>\n",
       "      <td>9.549407</td>\n",
       "      <td>408.237154</td>\n",
       "      <td>18.083004</td>\n",
       "      <td>356.674032</td>\n",
       "      <td>12.653063</td>\n",
       "      <td>22.532806</td>\n",
       "    </tr>\n",
       "    <tr>\n",
       "      <th>std</th>\n",
       "      <td>8.601545</td>\n",
       "      <td>23.310593</td>\n",
       "      <td>6.860353</td>\n",
       "      <td>0.253994</td>\n",
       "      <td>0.115878</td>\n",
       "      <td>0.702617</td>\n",
       "      <td>28.148861</td>\n",
       "      <td>2.105710</td>\n",
       "      <td>8.707259</td>\n",
       "      <td>168.537116</td>\n",
       "      <td>2.280574</td>\n",
       "      <td>91.294864</td>\n",
       "      <td>7.141062</td>\n",
       "      <td>9.197104</td>\n",
       "    </tr>\n",
       "    <tr>\n",
       "      <th>min</th>\n",
       "      <td>0.006320</td>\n",
       "      <td>0.000000</td>\n",
       "      <td>0.460000</td>\n",
       "      <td>0.000000</td>\n",
       "      <td>0.385000</td>\n",
       "      <td>3.561000</td>\n",
       "      <td>2.900000</td>\n",
       "      <td>1.129600</td>\n",
       "      <td>1.000000</td>\n",
       "      <td>187.000000</td>\n",
       "      <td>12.000000</td>\n",
       "      <td>0.320000</td>\n",
       "      <td>1.730000</td>\n",
       "      <td>5.000000</td>\n",
       "    </tr>\n",
       "    <tr>\n",
       "      <th>25%</th>\n",
       "      <td>0.082045</td>\n",
       "      <td>0.000000</td>\n",
       "      <td>5.190000</td>\n",
       "      <td>0.000000</td>\n",
       "      <td>0.449000</td>\n",
       "      <td>5.885500</td>\n",
       "      <td>45.025000</td>\n",
       "      <td>2.100175</td>\n",
       "      <td>4.000000</td>\n",
       "      <td>279.000000</td>\n",
       "      <td>17.000000</td>\n",
       "      <td>375.377500</td>\n",
       "      <td>6.950000</td>\n",
       "      <td>17.025000</td>\n",
       "    </tr>\n",
       "    <tr>\n",
       "      <th>50%</th>\n",
       "      <td>0.256510</td>\n",
       "      <td>0.000000</td>\n",
       "      <td>9.690000</td>\n",
       "      <td>0.000000</td>\n",
       "      <td>0.538000</td>\n",
       "      <td>6.208500</td>\n",
       "      <td>77.500000</td>\n",
       "      <td>3.207450</td>\n",
       "      <td>5.000000</td>\n",
       "      <td>330.000000</td>\n",
       "      <td>19.000000</td>\n",
       "      <td>391.440000</td>\n",
       "      <td>11.360000</td>\n",
       "      <td>21.200000</td>\n",
       "    </tr>\n",
       "    <tr>\n",
       "      <th>75%</th>\n",
       "      <td>3.677082</td>\n",
       "      <td>12.000000</td>\n",
       "      <td>18.100000</td>\n",
       "      <td>0.000000</td>\n",
       "      <td>0.624000</td>\n",
       "      <td>6.623500</td>\n",
       "      <td>94.075000</td>\n",
       "      <td>5.188425</td>\n",
       "      <td>24.000000</td>\n",
       "      <td>666.000000</td>\n",
       "      <td>20.000000</td>\n",
       "      <td>396.225000</td>\n",
       "      <td>16.955000</td>\n",
       "      <td>25.000000</td>\n",
       "    </tr>\n",
       "    <tr>\n",
       "      <th>max</th>\n",
       "      <td>88.976200</td>\n",
       "      <td>100.000000</td>\n",
       "      <td>27.740000</td>\n",
       "      <td>1.000000</td>\n",
       "      <td>0.871000</td>\n",
       "      <td>8.780000</td>\n",
       "      <td>100.000000</td>\n",
       "      <td>12.126500</td>\n",
       "      <td>24.000000</td>\n",
       "      <td>711.000000</td>\n",
       "      <td>22.000000</td>\n",
       "      <td>396.900000</td>\n",
       "      <td>37.970000</td>\n",
       "      <td>50.000000</td>\n",
       "    </tr>\n",
       "  </tbody>\n",
       "</table>\n",
       "</div>"
      ],
      "text/plain": [
       "             CRIM          ZN       INDUS        CHAS         NOX          RM  \\\n",
       "count  506.000000  506.000000  506.000000  506.000000  506.000000  506.000000   \n",
       "mean     3.613524   11.347826   11.136779    0.069170    0.554695    6.284634   \n",
       "std      8.601545   23.310593    6.860353    0.253994    0.115878    0.702617   \n",
       "min      0.006320    0.000000    0.460000    0.000000    0.385000    3.561000   \n",
       "25%      0.082045    0.000000    5.190000    0.000000    0.449000    5.885500   \n",
       "50%      0.256510    0.000000    9.690000    0.000000    0.538000    6.208500   \n",
       "75%      3.677082   12.000000   18.100000    0.000000    0.624000    6.623500   \n",
       "max     88.976200  100.000000   27.740000    1.000000    0.871000    8.780000   \n",
       "\n",
       "              AGE         DIS         RAD         TAX     PTRATIO           B  \\\n",
       "count  506.000000  506.000000  506.000000  506.000000  506.000000  506.000000   \n",
       "mean    68.574901    3.795043    9.549407  408.237154   18.083004  356.674032   \n",
       "std     28.148861    2.105710    8.707259  168.537116    2.280574   91.294864   \n",
       "min      2.900000    1.129600    1.000000  187.000000   12.000000    0.320000   \n",
       "25%     45.025000    2.100175    4.000000  279.000000   17.000000  375.377500   \n",
       "50%     77.500000    3.207450    5.000000  330.000000   19.000000  391.440000   \n",
       "75%     94.075000    5.188425   24.000000  666.000000   20.000000  396.225000   \n",
       "max    100.000000   12.126500   24.000000  711.000000   22.000000  396.900000   \n",
       "\n",
       "            LSTAT        MEDV  \n",
       "count  506.000000  506.000000  \n",
       "mean    12.653063   22.532806  \n",
       "std      7.141062    9.197104  \n",
       "min      1.730000    5.000000  \n",
       "25%      6.950000   17.025000  \n",
       "50%     11.360000   21.200000  \n",
       "75%     16.955000   25.000000  \n",
       "max     37.970000   50.000000  "
      ]
     },
     "execution_count": 3,
     "metadata": {},
     "output_type": "execute_result"
    }
   ],
   "source": [
    "df.shape\n",
    "df.info()\n",
    "df.describe()"
   ]
  },
  {
   "cell_type": "markdown",
   "metadata": {},
   "source": [
    "### c)\n",
    "Cuando los datos vienen en escalas muy diferentes puede llevar a que los datos con escalas más grandes logren mayor peso frente a los de menor escala (por ejemplo a la hora de calcular distancias). Normalizar los datos permite que todos los datos tengan un aporte \"igualitario\" a la hora de entrenar la red."
   ]
  },
  {
   "cell_type": "code",
   "execution_count": 4,
   "metadata": {
    "collapsed": false
   },
   "outputs": [],
   "source": [
    "# Datos de entrenamiento\n",
    "scaler = StandardScaler().fit(df_train)\n",
    "X_train_scaled = pd.DataFrame(scaler.transform(df_train),columns=df_train.columns)\n",
    "y_train_scaled = X_train_scaled.pop('MEDV')\n",
    "# Datos de testing\n",
    "scaler2 = StandardScaler().fit(df_test)\n",
    "X_test_scaled = pd.DataFrame(scaler2.transform(df_test),columns=df_test.columns)\n",
    "y_test_scaled = X_test_scaled.pop('MEDV')"
   ]
  },
  {
   "cell_type": "code",
   "execution_count": null,
   "metadata": {
    "collapsed": false
   },
   "outputs": [],
   "source": []
  },
  {
   "cell_type": "markdown",
   "metadata": {},
   "source": [
    "### d)"
   ]
  },
  {
   "cell_type": "code",
   "execution_count": 27,
   "metadata": {
    "collapsed": false
   },
   "outputs": [
    {
     "name": "stdout",
     "output_type": "stream",
     "text": [
      "Train on 379 samples, validate on 127 samples\n",
      "Epoch 1/10\n",
      "379/379 [==============================] - 0s - loss: nan - val_loss: nan\n",
      "Epoch 2/10\n",
      "379/379 [==============================] - 0s - loss: nan - val_loss: nan\n",
      "Epoch 3/10\n",
      "379/379 [==============================] - 0s - loss: nan - val_loss: nan\n",
      "Epoch 4/10\n",
      "379/379 [==============================] - 0s - loss: nan - val_loss: nan\n",
      "Epoch 5/10\n",
      "379/379 [==============================] - 0s - loss: nan - val_loss: nan\n",
      "Epoch 6/10\n",
      "379/379 [==============================] - 0s - loss: nan - val_loss: nan\n",
      "Epoch 7/10\n",
      "379/379 [==============================] - 0s - loss: nan - val_loss: nan\n",
      "Epoch 8/10\n",
      "379/379 [==============================] - 0s - loss: nan - val_loss: nan\n",
      "Epoch 9/10\n",
      "379/379 [==============================] - 0s - loss: nan - val_loss: nan\n",
      "Epoch 10/10\n",
      "379/379 [==============================] - 0s - loss: nan - val_loss: nan\n"
     ]
    }
   ],
   "source": [
    "model2_sig = Sequential()\n",
    "model2_sig.add(Dense(200, input_dim=X_train_scaled.shape[1], init='uniform'))\n",
    "model2_sig.add(Activation('sigmoid'))\n",
    "model2_sig.add(Dense(1, init='uniform'))\n",
    "model2_sig.add(Activation('linear'))\n",
    "\n",
    "sgd_sig = SGD(lr=0.01)\n",
    "model2_sig.compile(optimizer=sgd_sig,loss='mean_squared_error')\n",
    "\n",
    "hist_sig = model2_sig.fit(X_train_scaled.as_matrix(), y_train_scaled.as_matrix(), nb_epoch=10, verbose=1, validation_data=(X_test_scaled.as_matrix(), y_test_scaled.as_matrix()))"
   ]
  },
  {
   "cell_type": "code",
   "execution_count": 30,
   "metadata": {
    "collapsed": false
   },
   "outputs": [
    {
     "data": {
      "image/png": "[encoded data removed]",
      "text/plain": [
       "<matplotlib.figure.Figure at 0x11a2ff6a0>"
      ]
     },
     "metadata": {},
     "output_type": "display_data"
    }
   ],
   "source": [
    "plt.plot(hist_sig.history['loss'])\n",
    "plt.title('Square Error - Sigmoid')\n",
    "plt.xlabel('Ephocs')\n",
    "plt.ylabel('Error')\n",
    "plt.show()"
   ]
  },
  {
   "cell_type": "markdown",
   "metadata": {},
   "source": [
    "Se puede apreciar en el gráfico que el error disminuye en función del número de *epochs* que se utilicen pero de forma asintótica. Con un valor de aproximadamente 50 *epoch* se obtiene ya un error aproximadamente mínimo."
   ]
  },
  {
   "cell_type": "markdown",
   "metadata": {},
   "source": [
    "### e)"
   ]
  },
  {
   "cell_type": "code",
   "execution_count": 28,
   "metadata": {
    "collapsed": false
   },
   "outputs": [
    {
     "name": "stdout",
     "output_type": "stream",
     "text": [
      "Train on 379 samples, validate on 127 samples\n",
      "Epoch 1/300\n",
      "379/379 [==============================] - 0s - loss: nan - val_loss: nan\n",
      "Epoch 2/300\n",
      "379/379 [==============================] - 0s - loss: nan - val_loss: nan\n",
      "Epoch 3/300\n",
      "379/379 [==============================] - 0s - loss: nan - val_loss: nan\n",
      "Epoch 4/300\n",
      "379/379 [==============================] - 0s - loss: nan - val_loss: nan\n",
      "Epoch 5/300\n",
      "379/379 [==============================] - 0s - loss: nan - val_loss: nan\n",
      "Epoch 6/300\n",
      "379/379 [==============================] - 0s - loss: nan - val_loss: nan\n",
      "Epoch 7/300\n",
      "379/379 [==============================] - 0s - loss: nan - val_loss: nan\n",
      "Epoch 8/300\n",
      "379/379 [==============================] - 0s - loss: nan - val_loss: nan\n",
      "Epoch 9/300\n",
      "379/379 [==============================] - 0s - loss: nan - val_loss: nan\n",
      "Epoch 10/300\n",
      "379/379 [==============================] - 0s - loss: nan - val_loss: nan\n",
      "Epoch 11/300\n",
      "379/379 [==============================] - 0s - loss: nan - val_loss: nan\n",
      "Epoch 12/300\n",
      "379/379 [==============================] - 0s - loss: nan - val_loss: nan\n",
      "Epoch 13/300\n",
      "379/379 [==============================] - 0s - loss: nan - val_loss: nan\n",
      "Epoch 14/300\n",
      "379/379 [==============================] - 0s - loss: nan - val_loss: nan\n",
      "Epoch 15/300\n",
      "379/379 [==============================] - 0s - loss: nan - val_loss: nan\n",
      "Epoch 16/300\n",
      "379/379 [==============================] - 0s - loss: nan - val_loss: nan\n",
      "Epoch 17/300\n",
      "379/379 [==============================] - 0s - loss: nan - val_loss: nan\n",
      "Epoch 18/300\n",
      "379/379 [==============================] - 0s - loss: nan - val_loss: nan\n",
      "Epoch 19/300\n",
      "379/379 [==============================] - 0s - loss: nan - val_loss: nan\n",
      "Epoch 20/300\n",
      "379/379 [==============================] - 0s - loss: nan - val_loss: nan\n",
      "Epoch 21/300\n",
      "379/379 [==============================] - 0s - loss: nan - val_loss: nan\n",
      "Epoch 22/300\n",
      "379/379 [==============================] - 0s - loss: nan - val_loss: nan\n",
      "Epoch 23/300\n",
      "379/379 [==============================] - 0s - loss: nan - val_loss: nan\n",
      "Epoch 24/300\n",
      "379/379 [==============================] - 0s - loss: nan - val_loss: nan\n",
      "Epoch 25/300\n",
      "379/379 [==============================] - 0s - loss: nan - val_loss: nan\n",
      "Epoch 26/300\n",
      "379/379 [==============================] - 0s - loss: nan - val_loss: nan\n",
      "Epoch 27/300\n",
      "379/379 [==============================] - 0s - loss: nan - val_loss: nan\n",
      "Epoch 28/300\n",
      "379/379 [==============================] - 0s - loss: nan - val_loss: nan\n",
      "Epoch 29/300\n",
      "379/379 [==============================] - 0s - loss: nan - val_loss: nan\n",
      "Epoch 30/300\n",
      "379/379 [==============================] - 0s - loss: nan - val_loss: nan\n",
      "Epoch 31/300\n",
      "379/379 [==============================] - 0s - loss: nan - val_loss: nan\n",
      "Epoch 32/300\n",
      "379/379 [==============================] - 0s - loss: nan - val_loss: nan\n",
      "Epoch 33/300\n",
      "379/379 [==============================] - 0s - loss: nan - val_loss: nan\n",
      "Epoch 34/300\n",
      "379/379 [==============================] - 0s - loss: nan - val_loss: nan\n",
      "Epoch 35/300\n",
      "379/379 [==============================] - 0s - loss: nan - val_loss: nan\n",
      "Epoch 36/300\n",
      "379/379 [==============================] - 0s - loss: nan - val_loss: nan\n",
      "Epoch 37/300\n",
      "379/379 [==============================] - 0s - loss: nan - val_loss: nan\n",
      "Epoch 38/300\n",
      "379/379 [==============================] - 0s - loss: nan - val_loss: nan\n",
      "Epoch 39/300\n",
      "379/379 [==============================] - 0s - loss: nan - val_loss: nan\n",
      "Epoch 40/300\n",
      "379/379 [==============================] - 0s - loss: nan - val_loss: nan\n",
      "Epoch 41/300\n",
      "379/379 [==============================] - 0s - loss: nan - val_loss: nan\n",
      "Epoch 42/300\n",
      "379/379 [==============================] - 0s - loss: nan - val_loss: nan\n",
      "Epoch 43/300\n",
      "379/379 [==============================] - 0s - loss: nan - val_loss: nan\n",
      "Epoch 44/300\n",
      "379/379 [==============================] - 0s - loss: nan - val_loss: nan\n",
      "Epoch 45/300\n",
      "379/379 [==============================] - 0s - loss: nan - val_loss: nan\n",
      "Epoch 46/300\n",
      "379/379 [==============================] - 0s - loss: nan - val_loss: nan\n",
      "Epoch 47/300\n",
      "379/379 [==============================] - 0s - loss: nan - val_loss: nan\n",
      "Epoch 48/300\n",
      "379/379 [==============================] - 0s - loss: nan - val_loss: nan\n",
      "Epoch 49/300\n",
      "379/379 [==============================] - 0s - loss: nan - val_loss: nan\n",
      "Epoch 50/300\n",
      "379/379 [==============================] - 0s - loss: nan - val_loss: nan\n",
      "Epoch 51/300\n",
      "379/379 [==============================] - 0s - loss: nan - val_loss: nan\n",
      "Epoch 52/300\n",
      "379/379 [==============================] - 0s - loss: nan - val_loss: nan\n",
      "Epoch 53/300\n",
      "379/379 [==============================] - 0s - loss: nan - val_loss: nan\n",
      "Epoch 54/300\n",
      "379/379 [==============================] - 0s - loss: nan - val_loss: nan\n",
      "Epoch 55/300\n",
      "379/379 [==============================] - 0s - loss: nan - val_loss: nan\n",
      "Epoch 56/300\n",
      "379/379 [==============================] - 0s - loss: nan - val_loss: nan\n",
      "Epoch 57/300\n",
      "379/379 [==============================] - 0s - loss: nan - val_loss: nan\n",
      "Epoch 58/300\n",
      "379/379 [==============================] - 0s - loss: nan - val_loss: nan\n",
      "Epoch 59/300\n",
      "379/379 [==============================] - 0s - loss: nan - val_loss: nan\n",
      "Epoch 60/300\n",
      "379/379 [==============================] - 0s - loss: nan - val_loss: nan\n",
      "Epoch 61/300\n",
      "379/379 [==============================] - 0s - loss: nan - val_loss: nan\n",
      "Epoch 62/300\n",
      "379/379 [==============================] - 0s - loss: nan - val_loss: nan\n",
      "Epoch 63/300\n",
      "379/379 [==============================] - 0s - loss: nan - val_loss: nan\n",
      "Epoch 64/300\n",
      "379/379 [==============================] - 0s - loss: nan - val_loss: nan\n",
      "Epoch 65/300\n",
      "379/379 [==============================] - 0s - loss: nan - val_loss: nan\n",
      "Epoch 66/300\n",
      "379/379 [==============================] - 0s - loss: nan - val_loss: nan\n",
      "Epoch 67/300\n",
      "379/379 [==============================] - 0s - loss: nan - val_loss: nan\n",
      "Epoch 68/300\n",
      "379/379 [==============================] - 0s - loss: nan - val_loss: nan\n",
      "Epoch 69/300\n",
      "379/379 [==============================] - 0s - loss: nan - val_loss: nan\n",
      "Epoch 70/300\n",
      "379/379 [==============================] - 0s - loss: nan - val_loss: nan\n",
      "Epoch 71/300\n",
      "379/379 [==============================] - 0s - loss: nan - val_loss: nan\n",
      "Epoch 72/300\n",
      "379/379 [==============================] - 0s - loss: nan - val_loss: nan\n",
      "Epoch 73/300\n",
      "379/379 [==============================] - 0s - loss: nan - val_loss: nan\n",
      "Epoch 74/300\n",
      "379/379 [==============================] - 0s - loss: nan - val_loss: nan\n",
      "Epoch 75/300\n",
      "379/379 [==============================] - 0s - loss: nan - val_loss: nan\n",
      "Epoch 76/300\n",
      "379/379 [==============================] - 0s - loss: nan - val_loss: nan\n",
      "Epoch 77/300\n",
      "379/379 [==============================] - 0s - loss: nan - val_loss: nan\n",
      "Epoch 78/300\n",
      "379/379 [==============================] - 0s - loss: nan - val_loss: nan\n",
      "Epoch 79/300\n",
      "379/379 [==============================] - 0s - loss: nan - val_loss: nan\n",
      "Epoch 80/300\n",
      "379/379 [==============================] - 0s - loss: nan - val_loss: nan\n",
      "Epoch 81/300\n",
      "379/379 [==============================] - 0s - loss: nan - val_loss: nan\n",
      "Epoch 82/300\n",
      "379/379 [==============================] - 0s - loss: nan - val_loss: nan\n",
      "Epoch 83/300\n",
      "379/379 [==============================] - 0s - loss: nan - val_loss: nan\n",
      "Epoch 84/300\n",
      "379/379 [==============================] - 0s - loss: nan - val_loss: nan\n",
      "Epoch 85/300\n",
      "379/379 [==============================] - 0s - loss: nan - val_loss: nan\n",
      "Epoch 86/300\n",
      "379/379 [==============================] - 0s - loss: nan - val_loss: nan\n",
      "Epoch 87/300\n",
      "379/379 [==============================] - 0s - loss: nan - val_loss: nan\n",
      "Epoch 88/300\n",
      "379/379 [==============================] - 0s - loss: nan - val_loss: nan\n",
      "Epoch 89/300\n",
      "379/379 [==============================] - 0s - loss: nan - val_loss: nan\n",
      "Epoch 90/300\n",
      "379/379 [==============================] - 0s - loss: nan - val_loss: nan\n",
      "Epoch 91/300\n",
      "379/379 [==============================] - 0s - loss: nan - val_loss: nan\n",
      "Epoch 92/300\n",
      "379/379 [==============================] - 0s - loss: nan - val_loss: nan\n",
      "Epoch 93/300\n",
      "379/379 [==============================] - 0s - loss: nan - val_loss: nan\n",
      "Epoch 94/300\n",
      "379/379 [==============================] - 0s - loss: nan - val_loss: nan\n",
      "Epoch 95/300\n",
      "379/379 [==============================] - 0s - loss: nan - val_loss: nan\n",
      "Epoch 96/300\n",
      "379/379 [==============================] - 0s - loss: nan - val_loss: nan\n",
      "Epoch 97/300\n",
      "379/379 [==============================] - 0s - loss: nan - val_loss: nan\n",
      "Epoch 98/300\n",
      "379/379 [==============================] - 0s - loss: nan - val_loss: nan\n",
      "Epoch 99/300\n",
      "379/379 [==============================] - 0s - loss: nan - val_loss: nan\n",
      "Epoch 100/300\n",
      "379/379 [==============================] - 0s - loss: nan - val_loss: nan\n",
      "Epoch 101/300\n",
      "379/379 [==============================] - 0s - loss: nan - val_loss: nan\n",
      "Epoch 102/300\n",
      "379/379 [==============================] - 0s - loss: nan - val_loss: nan\n",
      "Epoch 103/300\n",
      "379/379 [==============================] - 0s - loss: nan - val_loss: nan\n",
      "Epoch 104/300\n",
      "379/379 [==============================] - 0s - loss: nan - val_loss: nan\n",
      "Epoch 105/300\n",
      "379/379 [==============================] - 0s - loss: nan - val_loss: nan\n",
      "Epoch 106/300\n",
      "379/379 [==============================] - 0s - loss: nan - val_loss: nan\n",
      "Epoch 107/300\n",
      "379/379 [==============================] - 0s - loss: nan - val_loss: nan\n",
      "Epoch 108/300\n",
      "379/379 [==============================] - 0s - loss: nan - val_loss: nan\n",
      "Epoch 109/300\n",
      "379/379 [==============================] - 0s - loss: nan - val_loss: nan\n",
      "Epoch 110/300\n",
      "379/379 [==============================] - 0s - loss: nan - val_loss: nan\n",
      "Epoch 111/300\n",
      "379/379 [==============================] - 0s - loss: nan - val_loss: nan\n",
      "Epoch 112/300\n",
      "379/379 [==============================] - 0s - loss: nan - val_loss: nan\n",
      "Epoch 113/300\n",
      "379/379 [==============================] - 0s - loss: nan - val_loss: nan\n",
      "Epoch 114/300\n",
      "379/379 [==============================] - 0s - loss: nan - val_loss: nan\n",
      "Epoch 115/300\n",
      "379/379 [==============================] - 0s - loss: nan - val_loss: nan\n",
      "Epoch 116/300\n",
      "379/379 [==============================] - 0s - loss: nan - val_loss: nan\n",
      "Epoch 117/300\n",
      "379/379 [==============================] - 0s - loss: nan - val_loss: nan\n",
      "Epoch 118/300\n",
      "379/379 [==============================] - 0s - loss: nan - val_loss: nan\n",
      "Epoch 119/300\n",
      "379/379 [==============================] - 0s - loss: nan - val_loss: nan\n",
      "Epoch 120/300\n",
      "379/379 [==============================] - 0s - loss: nan - val_loss: nan\n",
      "Epoch 121/300\n",
      "379/379 [==============================] - 0s - loss: nan - val_loss: nan\n",
      "Epoch 122/300\n",
      "379/379 [==============================] - 0s - loss: nan - val_loss: nan\n",
      "Epoch 123/300\n",
      "379/379 [==============================] - 0s - loss: nan - val_loss: nan\n",
      "Epoch 124/300\n",
      "379/379 [==============================] - 0s - loss: nan - val_loss: nan\n",
      "Epoch 125/300\n",
      "379/379 [==============================] - 0s - loss: nan - val_loss: nan\n",
      "Epoch 126/300\n",
      "379/379 [==============================] - 0s - loss: nan - val_loss: nan\n",
      "Epoch 127/300\n",
      "379/379 [==============================] - 0s - loss: nan - val_loss: nan\n",
      "Epoch 128/300\n",
      "379/379 [==============================] - 0s - loss: nan - val_loss: nan\n",
      "Epoch 129/300\n",
      "379/379 [==============================] - 0s - loss: nan - val_loss: nan\n",
      "Epoch 130/300\n",
      "379/379 [==============================] - 0s - loss: nan - val_loss: nan\n",
      "Epoch 131/300\n",
      "379/379 [==============================] - 0s - loss: nan - val_loss: nan\n",
      "Epoch 132/300\n",
      "379/379 [==============================] - 0s - loss: nan - val_loss: nan\n",
      "Epoch 133/300\n",
      "379/379 [==============================] - 0s - loss: nan - val_loss: nan\n",
      "Epoch 134/300\n",
      "379/379 [==============================] - 0s - loss: nan - val_loss: nan\n",
      "Epoch 135/300\n",
      "379/379 [==============================] - 0s - loss: nan - val_loss: nan\n",
      "Epoch 136/300\n",
      "379/379 [==============================] - 0s - loss: nan - val_loss: nan\n",
      "Epoch 137/300\n",
      "379/379 [==============================] - 0s - loss: nan - val_loss: nan\n",
      "Epoch 138/300\n",
      "379/379 [==============================] - 0s - loss: nan - val_loss: nan\n",
      "Epoch 139/300\n",
      "379/379 [==============================] - 0s - loss: nan - val_loss: nan\n",
      "Epoch 140/300\n",
      "379/379 [==============================] - 0s - loss: nan - val_loss: nan\n",
      "Epoch 141/300\n",
      "379/379 [==============================] - 0s - loss: nan - val_loss: nan\n",
      "Epoch 142/300\n",
      "379/379 [==============================] - 0s - loss: nan - val_loss: nan\n",
      "Epoch 143/300\n",
      "379/379 [==============================] - 0s - loss: nan - val_loss: nan\n",
      "Epoch 144/300\n",
      "379/379 [==============================] - 0s - loss: nan - val_loss: nan\n",
      "Epoch 145/300\n",
      "379/379 [==============================] - 0s - loss: nan - val_loss: nan\n",
      "Epoch 146/300\n",
      "379/379 [==============================] - 0s - loss: nan - val_loss: nan\n",
      "Epoch 147/300\n",
      "379/379 [==============================] - 0s - loss: nan - val_loss: nan\n",
      "Epoch 148/300\n",
      "379/379 [==============================] - 0s - loss: nan - val_loss: nan\n",
      "Epoch 149/300\n",
      "379/379 [==============================] - 0s - loss: nan - val_loss: nan\n",
      "Epoch 150/300\n",
      "379/379 [==============================] - 0s - loss: nan - val_loss: nan\n",
      "Epoch 151/300\n",
      "379/379 [==============================] - 0s - loss: nan - val_loss: nan\n",
      "Epoch 152/300\n",
      "379/379 [==============================] - 0s - loss: nan - val_loss: nan\n",
      "Epoch 153/300\n",
      "379/379 [==============================] - 0s - loss: nan - val_loss: nan\n",
      "Epoch 154/300\n",
      "379/379 [==============================] - 0s - loss: nan - val_loss: nan\n",
      "Epoch 155/300\n",
      "379/379 [==============================] - 0s - loss: nan - val_loss: nan\n",
      "Epoch 156/300\n",
      "379/379 [==============================] - 0s - loss: nan - val_loss: nan\n",
      "Epoch 157/300\n",
      "379/379 [==============================] - 0s - loss: nan - val_loss: nan\n",
      "Epoch 158/300\n",
      "379/379 [==============================] - 0s - loss: nan - val_loss: nan\n",
      "Epoch 159/300\n",
      "379/379 [==============================] - 0s - loss: nan - val_loss: nan\n",
      "Epoch 160/300\n",
      "379/379 [==============================] - 0s - loss: nan - val_loss: nan\n",
      "Epoch 161/300\n",
      "379/379 [==============================] - 0s - loss: nan - val_loss: nan\n",
      "Epoch 162/300\n",
      "379/379 [==============================] - 0s - loss: nan - val_loss: nan\n",
      "Epoch 163/300\n",
      "379/379 [==============================] - 0s - loss: nan - val_loss: nan\n",
      "Epoch 164/300\n",
      "379/379 [==============================] - 0s - loss: nan - val_loss: nan\n",
      "Epoch 165/300\n",
      "379/379 [==============================] - 0s - loss: nan - val_loss: nan\n",
      "Epoch 166/300\n",
      "379/379 [==============================] - 0s - loss: nan - val_loss: nan\n",
      "Epoch 167/300\n",
      "379/379 [==============================] - 0s - loss: nan - val_loss: nan\n",
      "Epoch 168/300\n",
      "379/379 [==============================] - 0s - loss: nan - val_loss: nan\n",
      "Epoch 169/300\n",
      "379/379 [==============================] - 0s - loss: nan - val_loss: nan\n",
      "Epoch 170/300\n",
      "379/379 [==============================] - 0s - loss: nan - val_loss: nan\n",
      "Epoch 171/300\n",
      "379/379 [==============================] - 0s - loss: nan - val_loss: nan\n",
      "Epoch 172/300\n",
      "379/379 [==============================] - 0s - loss: nan - val_loss: nan\n",
      "Epoch 173/300\n",
      "379/379 [==============================] - 0s - loss: nan - val_loss: nan\n",
      "Epoch 174/300\n",
      "379/379 [==============================] - 0s - loss: nan - val_loss: nan\n",
      "Epoch 175/300\n",
      "379/379 [==============================] - 0s - loss: nan - val_loss: nan\n",
      "Epoch 176/300\n",
      "379/379 [==============================] - 0s - loss: nan - val_loss: nan\n",
      "Epoch 177/300\n",
      "379/379 [==============================] - 0s - loss: nan - val_loss: nan\n",
      "Epoch 178/300\n",
      "379/379 [==============================] - 0s - loss: nan - val_loss: nan\n",
      "Epoch 179/300\n",
      "379/379 [==============================] - 0s - loss: nan - val_loss: nan\n",
      "Epoch 180/300\n",
      "379/379 [==============================] - 0s - loss: nan - val_loss: nan\n",
      "Epoch 181/300\n",
      "379/379 [==============================] - 0s - loss: nan - val_loss: nan\n",
      "Epoch 182/300\n",
      "379/379 [==============================] - 0s - loss: nan - val_loss: nan\n",
      "Epoch 183/300\n",
      "379/379 [==============================] - 0s - loss: nan - val_loss: nan\n",
      "Epoch 184/300\n",
      "379/379 [==============================] - 0s - loss: nan - val_loss: nan\n",
      "Epoch 185/300\n",
      "379/379 [==============================] - 0s - loss: nan - val_loss: nan\n",
      "Epoch 186/300\n",
      "379/379 [==============================] - 0s - loss: nan - val_loss: nan\n",
      "Epoch 187/300\n",
      "379/379 [==============================] - 0s - loss: nan - val_loss: nan\n",
      "Epoch 188/300\n",
      "379/379 [==============================] - 0s - loss: nan - val_loss: nan\n",
      "Epoch 189/300\n",
      "379/379 [==============================] - 0s - loss: nan - val_loss: nan\n",
      "Epoch 190/300\n",
      "379/379 [==============================] - 0s - loss: nan - val_loss: nan\n",
      "Epoch 191/300\n",
      "379/379 [==============================] - 0s - loss: nan - val_loss: nan\n",
      "Epoch 192/300\n",
      "379/379 [==============================] - 0s - loss: nan - val_loss: nan\n",
      "Epoch 193/300\n",
      "379/379 [==============================] - 0s - loss: nan - val_loss: nan\n",
      "Epoch 194/300\n",
      "379/379 [==============================] - 0s - loss: nan - val_loss: nan\n",
      "Epoch 195/300\n",
      "379/379 [==============================] - 0s - loss: nan - val_loss: nan\n",
      "Epoch 196/300\n",
      "379/379 [==============================] - 0s - loss: nan - val_loss: nan\n",
      "Epoch 197/300\n",
      "379/379 [==============================] - 0s - loss: nan - val_loss: nan\n",
      "Epoch 198/300\n",
      "379/379 [==============================] - 0s - loss: nan - val_loss: nan\n",
      "Epoch 199/300\n",
      "379/379 [==============================] - 0s - loss: nan - val_loss: nan\n",
      "Epoch 200/300\n",
      "379/379 [==============================] - 0s - loss: nan - val_loss: nan\n",
      "Epoch 201/300\n",
      "379/379 [==============================] - 0s - loss: nan - val_loss: nan\n",
      "Epoch 202/300\n",
      "379/379 [==============================] - 0s - loss: nan - val_loss: nan\n",
      "Epoch 203/300\n",
      "379/379 [==============================] - 0s - loss: nan - val_loss: nan\n",
      "Epoch 204/300\n",
      "379/379 [==============================] - 0s - loss: nan - val_loss: nan\n",
      "Epoch 205/300\n",
      "379/379 [==============================] - 0s - loss: nan - val_loss: nan\n",
      "Epoch 206/300\n",
      "379/379 [==============================] - 0s - loss: nan - val_loss: nan\n",
      "Epoch 207/300\n",
      "379/379 [==============================] - 0s - loss: nan - val_loss: nan\n",
      "Epoch 208/300\n",
      "379/379 [==============================] - 0s - loss: nan - val_loss: nan\n",
      "Epoch 209/300\n",
      "379/379 [==============================] - 0s - loss: nan - val_loss: nan\n",
      "Epoch 210/300\n",
      "379/379 [==============================] - 0s - loss: nan - val_loss: nan\n",
      "Epoch 211/300\n",
      "379/379 [==============================] - 0s - loss: nan - val_loss: nan\n",
      "Epoch 212/300\n",
      "379/379 [==============================] - 0s - loss: nan - val_loss: nan\n",
      "Epoch 213/300\n",
      "379/379 [==============================] - 0s - loss: nan - val_loss: nan\n",
      "Epoch 214/300\n",
      "379/379 [==============================] - 0s - loss: nan - val_loss: nan\n",
      "Epoch 215/300\n",
      "379/379 [==============================] - 0s - loss: nan - val_loss: nan\n",
      "Epoch 216/300\n",
      "379/379 [==============================] - 0s - loss: nan - val_loss: nan\n",
      "Epoch 217/300\n",
      "379/379 [==============================] - 0s - loss: nan - val_loss: nan\n",
      "Epoch 218/300\n",
      "379/379 [==============================] - 0s - loss: nan - val_loss: nan\n",
      "Epoch 219/300\n",
      "379/379 [==============================] - 0s - loss: nan - val_loss: nan\n",
      "Epoch 220/300\n",
      "379/379 [==============================] - 0s - loss: nan - val_loss: nan\n",
      "Epoch 221/300\n",
      "379/379 [==============================] - 0s - loss: nan - val_loss: nan\n",
      "Epoch 222/300\n",
      "379/379 [==============================] - 0s - loss: nan - val_loss: nan\n",
      "Epoch 223/300\n",
      "379/379 [==============================] - 0s - loss: nan - val_loss: nan\n",
      "Epoch 224/300\n",
      "379/379 [==============================] - 0s - loss: nan - val_loss: nan\n",
      "Epoch 225/300\n",
      "379/379 [==============================] - 0s - loss: nan - val_loss: nan\n",
      "Epoch 226/300\n",
      "379/379 [==============================] - 0s - loss: nan - val_loss: nan\n",
      "Epoch 227/300\n",
      "379/379 [==============================] - 0s - loss: nan - val_loss: nan\n",
      "Epoch 228/300\n",
      "379/379 [==============================] - 0s - loss: nan - val_loss: nan\n",
      "Epoch 229/300\n",
      "379/379 [==============================] - 0s - loss: nan - val_loss: nan\n",
      "Epoch 230/300\n",
      "379/379 [==============================] - 0s - loss: nan - val_loss: nan\n",
      "Epoch 231/300\n",
      "379/379 [==============================] - 0s - loss: nan - val_loss: nan\n",
      "Epoch 232/300\n",
      "379/379 [==============================] - 0s - loss: nan - val_loss: nan\n",
      "Epoch 233/300\n",
      "379/379 [==============================] - 0s - loss: nan - val_loss: nan\n",
      "Epoch 234/300\n",
      "379/379 [==============================] - 0s - loss: nan - val_loss: nan\n",
      "Epoch 235/300\n",
      "379/379 [==============================] - 0s - loss: nan - val_loss: nan\n",
      "Epoch 236/300\n",
      "379/379 [==============================] - 0s - loss: nan - val_loss: nan\n",
      "Epoch 237/300\n",
      "379/379 [==============================] - 0s - loss: nan - val_loss: nan\n",
      "Epoch 238/300\n",
      "379/379 [==============================] - 0s - loss: nan - val_loss: nan\n",
      "Epoch 239/300\n",
      "379/379 [==============================] - 0s - loss: nan - val_loss: nan\n",
      "Epoch 240/300\n",
      "379/379 [==============================] - 0s - loss: nan - val_loss: nan\n",
      "Epoch 241/300\n",
      "379/379 [==============================] - 0s - loss: nan - val_loss: nan\n",
      "Epoch 242/300\n",
      "379/379 [==============================] - 0s - loss: nan - val_loss: nan\n",
      "Epoch 243/300\n",
      "379/379 [==============================] - 0s - loss: nan - val_loss: nan\n",
      "Epoch 244/300\n",
      "379/379 [==============================] - 0s - loss: nan - val_loss: nan\n",
      "Epoch 245/300\n",
      "379/379 [==============================] - 0s - loss: nan - val_loss: nan\n",
      "Epoch 246/300\n",
      "379/379 [==============================] - 0s - loss: nan - val_loss: nan\n",
      "Epoch 247/300\n",
      "379/379 [==============================] - 0s - loss: nan - val_loss: nan\n",
      "Epoch 248/300\n",
      "379/379 [==============================] - 0s - loss: nan - val_loss: nan\n",
      "Epoch 249/300\n",
      "379/379 [==============================] - 0s - loss: nan - val_loss: nan\n",
      "Epoch 250/300\n",
      "379/379 [==============================] - 0s - loss: nan - val_loss: nan\n",
      "Epoch 251/300\n",
      "379/379 [==============================] - 0s - loss: nan - val_loss: nan\n",
      "Epoch 252/300\n",
      "379/379 [==============================] - 0s - loss: nan - val_loss: nan\n",
      "Epoch 253/300\n",
      "379/379 [==============================] - 0s - loss: nan - val_loss: nan\n",
      "Epoch 254/300\n",
      "379/379 [==============================] - 0s - loss: nan - val_loss: nan\n",
      "Epoch 255/300\n",
      "379/379 [==============================] - 0s - loss: nan - val_loss: nan\n",
      "Epoch 256/300\n",
      "379/379 [==============================] - 0s - loss: nan - val_loss: nan\n",
      "Epoch 257/300\n",
      "379/379 [==============================] - 0s - loss: nan - val_loss: nan\n",
      "Epoch 258/300\n",
      "379/379 [==============================] - 0s - loss: nan - val_loss: nan\n",
      "Epoch 259/300\n",
      "379/379 [==============================] - 0s - loss: nan - val_loss: nan\n",
      "Epoch 260/300\n",
      "379/379 [==============================] - 0s - loss: nan - val_loss: nan\n",
      "Epoch 261/300\n",
      "379/379 [==============================] - 0s - loss: nan - val_loss: nan\n",
      "Epoch 262/300\n",
      "379/379 [==============================] - 0s - loss: nan - val_loss: nan\n",
      "Epoch 263/300\n",
      "379/379 [==============================] - 0s - loss: nan - val_loss: nan\n",
      "Epoch 264/300\n",
      "379/379 [==============================] - 0s - loss: nan - val_loss: nan\n",
      "Epoch 265/300\n",
      "379/379 [==============================] - 0s - loss: nan - val_loss: nan\n",
      "Epoch 266/300\n",
      "379/379 [==============================] - 0s - loss: nan - val_loss: nan\n",
      "Epoch 267/300\n",
      "379/379 [==============================] - 0s - loss: nan - val_loss: nan\n",
      "Epoch 268/300\n",
      "379/379 [==============================] - 0s - loss: nan - val_loss: nan\n",
      "Epoch 269/300\n",
      "379/379 [==============================] - 0s - loss: nan - val_loss: nan\n",
      "Epoch 270/300\n",
      "379/379 [==============================] - 0s - loss: nan - val_loss: nan\n",
      "Epoch 271/300\n",
      "379/379 [==============================] - 0s - loss: nan - val_loss: nan\n",
      "Epoch 272/300\n",
      "379/379 [==============================] - 0s - loss: nan - val_loss: nan\n",
      "Epoch 273/300\n",
      "379/379 [==============================] - 0s - loss: nan - val_loss: nan\n",
      "Epoch 274/300\n",
      "379/379 [==============================] - 0s - loss: nan - val_loss: nan\n",
      "Epoch 275/300\n",
      "379/379 [==============================] - 0s - loss: nan - val_loss: nan\n",
      "Epoch 276/300\n",
      "379/379 [==============================] - 0s - loss: nan - val_loss: nan\n",
      "Epoch 277/300\n",
      "379/379 [==============================] - 0s - loss: nan - val_loss: nan\n",
      "Epoch 278/300\n",
      "379/379 [==============================] - 0s - loss: nan - val_loss: nan\n",
      "Epoch 279/300\n",
      "379/379 [==============================] - 0s - loss: nan - val_loss: nan\n",
      "Epoch 280/300\n",
      "379/379 [==============================] - 0s - loss: nan - val_loss: nan\n",
      "Epoch 281/300\n",
      "379/379 [==============================] - 0s - loss: nan - val_loss: nan\n",
      "Epoch 282/300\n",
      "379/379 [==============================] - 0s - loss: nan - val_loss: nan\n",
      "Epoch 283/300\n",
      "379/379 [==============================] - 0s - loss: nan - val_loss: nan\n",
      "Epoch 284/300\n",
      "379/379 [==============================] - 0s - loss: nan - val_loss: nan\n",
      "Epoch 285/300\n",
      "379/379 [==============================] - 0s - loss: nan - val_loss: nan\n",
      "Epoch 286/300\n",
      "379/379 [==============================] - 0s - loss: nan - val_loss: nan\n",
      "Epoch 287/300\n",
      "379/379 [==============================] - 0s - loss: nan - val_loss: nan\n",
      "Epoch 288/300\n",
      "379/379 [==============================] - 0s - loss: nan - val_loss: nan\n",
      "Epoch 289/300\n",
      "379/379 [==============================] - 0s - loss: nan - val_loss: nan\n",
      "Epoch 290/300\n",
      "379/379 [==============================] - 0s - loss: nan - val_loss: nan\n",
      "Epoch 291/300\n",
      "379/379 [==============================] - 0s - loss: nan - val_loss: nan\n",
      "Epoch 292/300\n",
      "379/379 [==============================] - 0s - loss: nan - val_loss: nan\n",
      "Epoch 293/300\n",
      "379/379 [==============================] - 0s - loss: nan - val_loss: nan\n",
      "Epoch 294/300\n",
      "379/379 [==============================] - 0s - loss: nan - val_loss: nan\n",
      "Epoch 295/300\n",
      "379/379 [==============================] - 0s - loss: nan - val_loss: nan\n",
      "Epoch 296/300\n",
      "379/379 [==============================] - 0s - loss: nan - val_loss: nan\n",
      "Epoch 297/300\n",
      "379/379 [==============================] - 0s - loss: nan - val_loss: nan\n",
      "Epoch 298/300\n",
      "379/379 [==============================] - 0s - loss: nan - val_loss: nan\n",
      "Epoch 299/300\n",
      "379/379 [==============================] - 0s - loss: nan - val_loss: nan\n",
      "Epoch 300/300\n",
      "379/379 [==============================] - 0s - loss: nan - val_loss: nan\n"
     ]
    }
   ],
   "source": [
    "model2_relu = Sequential()\n",
    "model2_relu.add(Dense(200, input_dim=X_train_scaled.shape[1], init='uniform'))\n",
    "model2_relu.add(Activation('relu'))\n",
    "model2_relu.add(Dense(1, init='uniform'))\n",
    "model2_relu.add(Activation('linear'))\n",
    "\n",
    "sgd_relu = SGD(lr=0.2)\n",
    "model2_relu.compile(optimizer=sgd_relu,loss='mean_squared_error')\n",
    "\n",
    "hist_relu = model2_relu.fit(X_train_scaled.as_matrix(), y_train_scaled.as_matrix(), nb_epoch=300, verbose=1, validation_data=(X_test_scaled.as_matrix(), y_test_scaled.as_matrix()))"
   ]
  },
  {
   "cell_type": "code",
   "execution_count": 14,
   "metadata": {
    "collapsed": false
   },
   "outputs": [
    {
     "data": {
      "image/png": "[encoded data removed]",
      "text/plain": [
       "<matplotlib.figure.Figure at 0x118124588>"
      ]
     },
     "metadata": {},
     "output_type": "display_data"
    }
   ],
   "source": [
    "plt.plot(hist_relu.history['loss'])\n",
    "plt.title(\"Square Error - Relu\")\n",
    "plt.xlabel('Ephocs')\n",
    "plt.ylabel('Error')\n",
    "plt.show()"
   ]
  },
  {
   "cell_type": "markdown",
   "metadata": {},
   "source": [
    "Como se puede apreviar la diferencia más apreciable se nota en la cantidad de *epoch* necesarias para conseguir el error mínimo, el cual ocurre mucho antes de las 50 epochs."
   ]
  },
  {
   "cell_type": "markdown",
   "metadata": {},
   "source": [
    "### f)"
   ]
  },
  {
   "cell_type": "code",
   "execution_count": 31,
   "metadata": {
    "collapsed": true
   },
   "outputs": [],
   "source": [
    "# Generamos los n learning rates\n",
    "n_lr = 20\n",
    "lear_rate = np.linspace(0,1,n_lr)"
   ]
  },
  {
   "cell_type": "code",
   "execution_count": 32,
   "metadata": {
    "collapsed": false,
    "scrolled": false
   },
   "outputs": [
    {
     "data": {
      "image/png": "[encoded data removed]",
      "text/plain": [
       "<matplotlib.figure.Figure at 0x11a894780>"
      ]
     },
     "metadata": {},
     "output_type": "display_data"
    },
    {
     "data": {
      "image/png": "[encoded data removed]",
      "text/plain": [
       "<matplotlib.figure.Figure at 0x11a014c18>"
      ]
     },
     "metadata": {},
     "output_type": "display_data"
    },
    {
     "data": {
      "image/png": "[encoded data removed]",
      "text/plain": [
       "<matplotlib.figure.Figure at 0x11d8b3748>"
      ]
     },
     "metadata": {},
     "output_type": "display_data"
    },
    {
     "data": {
      "image/png": "[encoded data removed]",
      "text/plain": [
       "<matplotlib.figure.Figure at 0x11dd77198>"
      ]
     },
     "metadata": {},
     "output_type": "display_data"
    },
    {
     "ename": "KeyboardInterrupt",
     "evalue": "",
     "output_type": "error",
     "traceback": [
      "\u001b[0;31m---------------------------------------------------------------------------\u001b[0m",
      "\u001b[0;31mKeyboardInterrupt\u001b[0m                         Traceback (most recent call last)",
      "\u001b[0;32m<ipython-input-32-28cc3e611b0c>\u001b[0m in \u001b[0;36m<module>\u001b[0;34m()\u001b[0m\n\u001b[1;32m     10\u001b[0m     \u001b[0mmodel_lr\u001b[0m\u001b[0;34m.\u001b[0m\u001b[0mcompile\u001b[0m\u001b[0;34m(\u001b[0m\u001b[0moptimizer\u001b[0m\u001b[0;34m=\u001b[0m\u001b[0;34m'sgd'\u001b[0m\u001b[0;34m,\u001b[0m\u001b[0mloss\u001b[0m\u001b[0;34m=\u001b[0m\u001b[0;34m'mean_squared_error'\u001b[0m\u001b[0;34m)\u001b[0m\u001b[0;34m\u001b[0m\u001b[0m\n\u001b[1;32m     11\u001b[0m \u001b[0;34m\u001b[0m\u001b[0m\n\u001b[0;32m---> 12\u001b[0;31m     \u001b[0mhist_relu\u001b[0m \u001b[0;34m=\u001b[0m \u001b[0mmodel_lr\u001b[0m\u001b[0;34m.\u001b[0m\u001b[0mfit\u001b[0m\u001b[0;34m(\u001b[0m\u001b[0mX_train_scaled\u001b[0m\u001b[0;34m.\u001b[0m\u001b[0mas_matrix\u001b[0m\u001b[0;34m(\u001b[0m\u001b[0;34m)\u001b[0m\u001b[0;34m,\u001b[0m \u001b[0my_train_scaled\u001b[0m\u001b[0;34m.\u001b[0m\u001b[0mas_matrix\u001b[0m\u001b[0;34m(\u001b[0m\u001b[0;34m)\u001b[0m\u001b[0;34m,\u001b[0m \u001b[0mnb_epoch\u001b[0m\u001b[0;34m=\u001b[0m\u001b[0;36m300\u001b[0m\u001b[0;34m,\u001b[0m \u001b[0mverbose\u001b[0m\u001b[0;34m=\u001b[0m\u001b[0;36m0\u001b[0m\u001b[0;34m,\u001b[0m \u001b[0mvalidation_data\u001b[0m\u001b[0;34m=\u001b[0m\u001b[0;34m(\u001b[0m\u001b[0mX_test_scaled\u001b[0m\u001b[0;34m.\u001b[0m\u001b[0mas_matrix\u001b[0m\u001b[0;34m(\u001b[0m\u001b[0;34m)\u001b[0m\u001b[0;34m,\u001b[0m \u001b[0my_test_scaled\u001b[0m\u001b[0;34m.\u001b[0m\u001b[0mas_matrix\u001b[0m\u001b[0;34m(\u001b[0m\u001b[0;34m)\u001b[0m\u001b[0;34m)\u001b[0m\u001b[0;34m)\u001b[0m\u001b[0;34m\u001b[0m\u001b[0m\n\u001b[0m\u001b[1;32m     13\u001b[0m \u001b[0;34m\u001b[0m\u001b[0m\n\u001b[1;32m     14\u001b[0m     \u001b[0;31m# Graficamos\u001b[0m\u001b[0;34m\u001b[0m\u001b[0;34m\u001b[0m\u001b[0m\n",
      "\u001b[0;32m/Users/asanhuez/.miniconda2/envs/python3/lib/python3.5/site-packages/keras/models.py\u001b[0m in \u001b[0;36mfit\u001b[0;34m(self, x, y, batch_size, nb_epoch, verbose, callbacks, validation_split, validation_data, shuffle, class_weight, sample_weight, **kwargs)\u001b[0m\n\u001b[1;32m    618\u001b[0m                               \u001b[0mshuffle\u001b[0m\u001b[0;34m=\u001b[0m\u001b[0mshuffle\u001b[0m\u001b[0;34m,\u001b[0m\u001b[0;34m\u001b[0m\u001b[0m\n\u001b[1;32m    619\u001b[0m                               \u001b[0mclass_weight\u001b[0m\u001b[0;34m=\u001b[0m\u001b[0mclass_weight\u001b[0m\u001b[0;34m,\u001b[0m\u001b[0;34m\u001b[0m\u001b[0m\n\u001b[0;32m--> 620\u001b[0;31m                               sample_weight=sample_weight)\n\u001b[0m\u001b[1;32m    621\u001b[0m \u001b[0;34m\u001b[0m\u001b[0m\n\u001b[1;32m    622\u001b[0m     def evaluate(self, x, y, batch_size=32, verbose=1,\n",
      "\u001b[0;32m/Users/asanhuez/.miniconda2/envs/python3/lib/python3.5/site-packages/keras/engine/training.py\u001b[0m in \u001b[0;36mfit\u001b[0;34m(self, x, y, batch_size, nb_epoch, verbose, callbacks, validation_split, validation_data, shuffle, class_weight, sample_weight)\u001b[0m\n\u001b[1;32m   1102\u001b[0m                               \u001b[0mverbose\u001b[0m\u001b[0;34m=\u001b[0m\u001b[0mverbose\u001b[0m\u001b[0;34m,\u001b[0m \u001b[0mcallbacks\u001b[0m\u001b[0;34m=\u001b[0m\u001b[0mcallbacks\u001b[0m\u001b[0;34m,\u001b[0m\u001b[0;34m\u001b[0m\u001b[0m\n\u001b[1;32m   1103\u001b[0m                               \u001b[0mval_f\u001b[0m\u001b[0;34m=\u001b[0m\u001b[0mval_f\u001b[0m\u001b[0;34m,\u001b[0m \u001b[0mval_ins\u001b[0m\u001b[0;34m=\u001b[0m\u001b[0mval_ins\u001b[0m\u001b[0;34m,\u001b[0m \u001b[0mshuffle\u001b[0m\u001b[0;34m=\u001b[0m\u001b[0mshuffle\u001b[0m\u001b[0;34m,\u001b[0m\u001b[0;34m\u001b[0m\u001b[0m\n\u001b[0;32m-> 1104\u001b[0;31m                               callback_metrics=callback_metrics)\n\u001b[0m\u001b[1;32m   1105\u001b[0m \u001b[0;34m\u001b[0m\u001b[0m\n\u001b[1;32m   1106\u001b[0m     \u001b[0;32mdef\u001b[0m \u001b[0mevaluate\u001b[0m\u001b[0;34m(\u001b[0m\u001b[0mself\u001b[0m\u001b[0;34m,\u001b[0m \u001b[0mx\u001b[0m\u001b[0;34m,\u001b[0m \u001b[0my\u001b[0m\u001b[0;34m,\u001b[0m \u001b[0mbatch_size\u001b[0m\u001b[0;34m=\u001b[0m\u001b[0;36m32\u001b[0m\u001b[0;34m,\u001b[0m \u001b[0mverbose\u001b[0m\u001b[0;34m=\u001b[0m\u001b[0;36m1\u001b[0m\u001b[0;34m,\u001b[0m \u001b[0msample_weight\u001b[0m\u001b[0;34m=\u001b[0m\u001b[0;32mNone\u001b[0m\u001b[0;34m)\u001b[0m\u001b[0;34m:\u001b[0m\u001b[0;34m\u001b[0m\u001b[0m\n",
      "\u001b[0;32m/Users/asanhuez/.miniconda2/envs/python3/lib/python3.5/site-packages/keras/engine/training.py\u001b[0m in \u001b[0;36m_fit_loop\u001b[0;34m(self, f, ins, out_labels, batch_size, nb_epoch, verbose, callbacks, val_f, val_ins, shuffle, callback_metrics)\u001b[0m\n\u001b[1;32m    826\u001b[0m                     \u001b[0mbatch_logs\u001b[0m\u001b[0;34m[\u001b[0m\u001b[0ml\u001b[0m\u001b[0;34m]\u001b[0m \u001b[0;34m=\u001b[0m \u001b[0mo\u001b[0m\u001b[0;34m\u001b[0m\u001b[0m\n\u001b[1;32m    827\u001b[0m \u001b[0;34m\u001b[0m\u001b[0m\n\u001b[0;32m--> 828\u001b[0;31m                 \u001b[0mcallbacks\u001b[0m\u001b[0;34m.\u001b[0m\u001b[0mon_batch_end\u001b[0m\u001b[0;34m(\u001b[0m\u001b[0mbatch_index\u001b[0m\u001b[0;34m,\u001b[0m \u001b[0mbatch_logs\u001b[0m\u001b[0;34m)\u001b[0m\u001b[0;34m\u001b[0m\u001b[0m\n\u001b[0m\u001b[1;32m    829\u001b[0m \u001b[0;34m\u001b[0m\u001b[0m\n\u001b[1;32m    830\u001b[0m                 \u001b[0;32mif\u001b[0m \u001b[0mbatch_index\u001b[0m \u001b[0;34m==\u001b[0m \u001b[0mlen\u001b[0m\u001b[0;34m(\u001b[0m\u001b[0mbatches\u001b[0m\u001b[0;34m)\u001b[0m \u001b[0;34m-\u001b[0m \u001b[0;36m1\u001b[0m\u001b[0;34m:\u001b[0m  \u001b[0;31m# last batch\u001b[0m\u001b[0;34m\u001b[0m\u001b[0m\n",
      "\u001b[0;32m/Users/asanhuez/.miniconda2/envs/python3/lib/python3.5/site-packages/keras/callbacks.py\u001b[0m in \u001b[0;36mon_batch_end\u001b[0;34m(self, batch, logs)\u001b[0m\n\u001b[1;32m     61\u001b[0m             \u001b[0mcallback\u001b[0m\u001b[0;34m.\u001b[0m\u001b[0mon_batch_end\u001b[0m\u001b[0;34m(\u001b[0m\u001b[0mbatch\u001b[0m\u001b[0;34m,\u001b[0m \u001b[0mlogs\u001b[0m\u001b[0;34m)\u001b[0m\u001b[0;34m\u001b[0m\u001b[0m\n\u001b[1;32m     62\u001b[0m         \u001b[0mself\u001b[0m\u001b[0;34m.\u001b[0m\u001b[0m_delta_ts_batch_end\u001b[0m\u001b[0;34m.\u001b[0m\u001b[0mappend\u001b[0m\u001b[0;34m(\u001b[0m\u001b[0mtime\u001b[0m\u001b[0;34m.\u001b[0m\u001b[0mtime\u001b[0m\u001b[0;34m(\u001b[0m\u001b[0;34m)\u001b[0m \u001b[0;34m-\u001b[0m \u001b[0mt_before_callbacks\u001b[0m\u001b[0;34m)\u001b[0m\u001b[0;34m\u001b[0m\u001b[0m\n\u001b[0;32m---> 63\u001b[0;31m         \u001b[0mdelta_t_median\u001b[0m \u001b[0;34m=\u001b[0m \u001b[0mnp\u001b[0m\u001b[0;34m.\u001b[0m\u001b[0mmedian\u001b[0m\u001b[0;34m(\u001b[0m\u001b[0mself\u001b[0m\u001b[0;34m.\u001b[0m\u001b[0m_delta_ts_batch_end\u001b[0m\u001b[0;34m)\u001b[0m\u001b[0;34m\u001b[0m\u001b[0m\n\u001b[0m\u001b[1;32m     64\u001b[0m         \u001b[0;32mif\u001b[0m \u001b[0mself\u001b[0m\u001b[0;34m.\u001b[0m\u001b[0m_delta_t_batch\u001b[0m \u001b[0;34m>\u001b[0m \u001b[0;36m0.\u001b[0m \u001b[0;32mand\u001b[0m \u001b[0;34m(\u001b[0m\u001b[0mdelta_t_median\u001b[0m \u001b[0;34m>\u001b[0m \u001b[0;36m0.95\u001b[0m \u001b[0;34m*\u001b[0m \u001b[0mself\u001b[0m\u001b[0;34m.\u001b[0m\u001b[0m_delta_t_batch\u001b[0m \u001b[0;32mand\u001b[0m \u001b[0mdelta_t_median\u001b[0m \u001b[0;34m>\u001b[0m \u001b[0;36m0.1\u001b[0m\u001b[0;34m)\u001b[0m\u001b[0;34m:\u001b[0m\u001b[0;34m\u001b[0m\u001b[0m\n\u001b[1;32m     65\u001b[0m             warnings.warn('Method on_batch_end() is slow compared '\n",
      "\u001b[0;31mKeyboardInterrupt\u001b[0m: "
     ]
    }
   ],
   "source": [
    "i = 1\n",
    "for rate in lear_rate:\n",
    "    model_lr = Sequential()\n",
    "    model_lr.add(Dense(200, input_dim=X_train_scaled.shape[1], init='uniform'))\n",
    "    model_lr.add(Activation('sigmoid'))\n",
    "    model_lr.add(Dense(1, init='uniform'))\n",
    "    model_lr.add(Activation('linear'))\n",
    "\n",
    "    sgd = SGD(lr=rate)\n",
    "    model_lr.compile(optimizer='sgd',loss='mean_squared_error')\n",
    "\n",
    "    hist_relu = model_lr.fit(X_train_scaled.as_matrix(), y_train_scaled.as_matrix(), nb_epoch=300, verbose=0, validation_data=(X_test_scaled.as_matrix(), y_test_scaled.as_matrix()))\n",
    "    \n",
    "    # Graficamos\n",
    "    plt.plot(hist_relu.history['loss'])\n",
    "    plt.title(\"Square Error. Learning Rate = {0}, iteración {1}\".format(rate, i))\n",
    "    plt.xlabel('Ephocs')\n",
    "    plt.ylabel('Error')\n",
    "    plt.show()\n",
    "    i += 1"
   ]
  },
  {
   "cell_type": "code",
   "execution_count": 68,
   "metadata": {
    "collapsed": false
   },
   "outputs": [
    {
     "data": {
      "text/plain": [
       "array([ 0.        ,  0.05263158,  0.10526316,  0.15789474,  0.21052632,\n",
       "        0.26315789,  0.31578947,  0.36842105,  0.42105263,  0.47368421,\n",
       "        0.52631579,  0.57894737,  0.63157895,  0.68421053,  0.73684211,\n",
       "        0.78947368,  0.84210526,  0.89473684,  0.94736842,  1.        ])"
      ]
     },
     "execution_count": 68,
     "metadata": {},
     "output_type": "execute_result"
    }
   ],
   "source": [
    "lear_rate"
   ]
  },
  {
   "cell_type": "code",
   "execution_count": null,
   "metadata": {
    "collapsed": true
   },
   "outputs": [],
   "source": []
  }
 ],
 "metadata": {
  "kernelspec": {
   "display_name": "Python 3",
   "language": "python",
   "name": "python3"
  },
  "language_info": {
   "codemirror_mode": {
    "name": "ipython",
    "version": 3
   },
   "file_extension": ".py",
   "mimetype": "text/x-python",
   "name": "python",
   "nbconvert_exporter": "python",
   "pygments_lexer": "ipython3",
   "version": "3.5.1"
  }
 },
 "nbformat": 4,
 "nbformat_minor": 0
}
